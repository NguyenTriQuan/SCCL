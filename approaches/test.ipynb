{
 "cells": [
  {
   "cell_type": "code",
   "execution_count": 1,
   "metadata": {},
   "outputs": [],
   "source": [
    "import torch\n",
    "import numpy as np"
   ]
  },
  {
   "cell_type": "code",
   "execution_count": 10,
   "metadata": {},
   "outputs": [
    {
     "name": "stdout",
     "output_type": "stream",
     "text": [
      "tensor([ 1.0036, 11.7258,  2.2984,  9.9706, 10.9794, 12.6389,  3.9859, 11.8288,\n",
      "         9.3623, 15.7202])\n",
      "tensor([[0.0000, 0.0000, 0.0000],\n",
      "        [0.6957, 0.1551, 0.8465],\n",
      "        [0.0000, 0.0000, 0.0000],\n",
      "        [0.6544, 0.8754, 0.2221],\n",
      "        [0.0000, 0.0000, 0.0000],\n",
      "        [0.0000, 0.0000, 0.0000],\n",
      "        [0.6629, 0.8684, 0.4015],\n",
      "        [0.4194, 0.9819, 0.5520],\n",
      "        [0.0000, 0.0000, 0.0000],\n",
      "        [0.8520, 0.8718, 0.6213]])\n"
     ]
    }
   ],
   "source": [
    "a = torch.rand(10, 3)\n",
    "v, i  = a.norm(2, dim=1).sort(descending=True)\n",
    "a[i[5:]] = 0\n",
    "b = torch.rand(10, 10)\n",
    "v, i  = b.norm(2, dim=1).sort(descending=True)\n",
    "b[i[6:]] = 0\n",
    "c = torch.rand(10, 10)\n",
    "v, i  = c.norm(2, dim=1).sort(descending=True)\n",
    "c[i[7:]] = 0\n",
    "x = torch.rand(3)\n",
    "y = torch.matmul(a, x)\n",
    "y = torch.matmul(b, y) + y\n",
    "y = torch.matmul(c, y) + y\n",
    "print(y)\n",
    "\n",
    "v, i  = a.norm(2, dim=1).sort(descending=True)\n",
    "a = a[i[:5]]\n",
    "b = b[:, i[:5]]\n",
    "\n",
    "v, i  = b.norm(2, dim=1).sort(descending=True)\n",
    "b = b[i[:6]]\n"
   ]
  }
 ],
 "metadata": {
  "interpreter": {
   "hash": "2043299c89c8cd0b4d1a6f5cf4529bd58e6a4e0fe3181a25e0d328c821cdc5c5"
  },
  "kernelspec": {
   "display_name": "Python 3.7.6 ('base')",
   "language": "python",
   "name": "python3"
  },
  "language_info": {
   "codemirror_mode": {
    "name": "ipython",
    "version": 3
   },
   "file_extension": ".py",
   "mimetype": "text/x-python",
   "name": "python",
   "nbconvert_exporter": "python",
   "pygments_lexer": "ipython3",
   "version": "3.7.6"
  },
  "orig_nbformat": 4
 },
 "nbformat": 4,
 "nbformat_minor": 2
}
